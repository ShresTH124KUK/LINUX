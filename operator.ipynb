{
  "nbformat": 4,
  "nbformat_minor": 0,
  "metadata": {
    "colab": {
      "provenance": [],
      "authorship_tag": "ABX9TyOSq7ATdV1I18VHPKk4Yanf",
      "include_colab_link": true
    },
    "kernelspec": {
      "name": "python3",
      "display_name": "Python 3"
    },
    "language_info": {
      "name": "python"
    }
  },
  "cells": [
    {
      "cell_type": "markdown",
      "metadata": {
        "id": "view-in-github",
        "colab_type": "text"
      },
      "source": [
        "<a href=\"https://colab.research.google.com/github/ShresTH124KUK/LINUX/blob/main/operator.ipynb\" target=\"_parent\"><img src=\"https://colab.research.google.com/assets/colab-badge.svg\" alt=\"Open In Colab\"/></a>"
      ]
    },
    {
      "cell_type": "code",
      "execution_count": null,
      "metadata": {
        "id": "9sPn5Mwj8yKB"
      },
      "outputs": [],
      "source": []
    },
    {
      "cell_type": "code",
      "source": [
        "\n",
        "weight = int(input(\"enter the weight\"))\n",
        "unit = input (\"enter the unit\")\n",
        "if unit == \"k\" :\n",
        "  weight = weight * 0.45\n",
        "  print(weight)\n",
        "else:\n",
        "  weight=weight/0.45\n",
        "  print (weight)"
      ],
      "metadata": {
        "colab": {
          "base_uri": "https://localhost:8080/"
        },
        "id": "Xrucabe488au",
        "outputId": "425f1452-9e22-4a4c-8691-0b60962c67a4"
      },
      "execution_count": 1,
      "outputs": [
        {
          "output_type": "stream",
          "name": "stdout",
          "text": [
            "enter the weight 20\n",
            "enter the unit K\n",
            "44.44444444444444\n"
          ]
        }
      ]
    }
  ]
}